{
 "cells": [
  {
   "cell_type": "markdown",
   "id": "bfc8fc8c-572d-4c45-8ba2-00c10f14b483",
   "metadata": {},
   "source": [
    "# DataLab bespin functions"
   ]
  },
  {
   "cell_type": "code",
   "execution_count": null,
   "id": "97f2de6e-c212-43d1-ab70-3ac403e0b351",
   "metadata": {},
   "outputs": [],
   "source": [
    "from pyprojroot import here\n",
    "%run {here()}/common_utils.ipynb"
   ]
  },
  {
   "cell_type": "markdown",
   "id": "1750d12f-6b64-4a21-98ad-aec23c9ce09a",
   "metadata": {},
   "source": [
    "## Useful imports"
   ]
  },
  {
   "cell_type": "code",
   "execution_count": null,
   "id": "744ff254-8c73-4712-be24-95823cb947c4",
   "metadata": {},
   "outputs": [],
   "source": [
    "import google.auth\n",
    "from tqdm.notebook import tqdm\n",
    "from dask_gateway import Gateway\n",
    "import gzip\n",
    "import allel\n",
    "import numpy.testing\n",
    "import shutil\n",
    "import numpy as np"
   ]
  },
  {
   "cell_type": "markdown",
   "id": "dde145c2-0598-4f0c-afe9-2a62c44f853b",
   "metadata": {},
   "source": [
    "## Determine current conda environment"
   ]
  },
  {
   "cell_type": "code",
   "execution_count": null,
   "id": "93f05104-d7cd-4b79-8bf5-7b727e720f2c",
   "metadata": {},
   "outputs": [],
   "source": [
    "import os\n",
    "import re\n",
    "\n",
    "conda_prefix = os.environ[\"CONDA_PREFIX\"]\n",
    "print(\"conda_prefix: \", conda_prefix)\n",
    "\n",
    "current_environment = re.sub(\"/home/conda/(.+)/envs/(.+)\", \"\\\\1/\\\\2\", conda_prefix)\n",
    "print(\"current_environment: \", current_environment)"
   ]
  },
  {
   "cell_type": "markdown",
   "id": "663f2dc1-f1d7-4c84-b549-3e48a84facb9",
   "metadata": {},
   "source": [
    "## Dask clusters"
   ]
  },
  {
   "cell_type": "code",
   "execution_count": null,
   "id": "7aa48f23-3e89-482a-aff9-707d64084764",
   "metadata": {},
   "outputs": [],
   "source": [
    "_gateway = None\n",
    "_cluster_options = None\n",
    "_cluster_environments = None\n",
    "_cluster_profiles = None\n",
    "\n",
    "\n",
    "def get_gateway():\n",
    "    global _gateway\n",
    "    global _cluster_options\n",
    "    global _cluster_environments\n",
    "    global _cluster_profiles\n",
    "    if _gateway is None:\n",
    "        _gateway = Gateway()\n",
    "        _cluster_options = _gateway.cluster_options()\n",
    "        _cluster_environments = _cluster_options._fields['conda_environment'].options\n",
    "        _cluster_profiles = _cluster_options._fields['profile'].options\n",
    "    return _gateway\n"
   ]
  },
  {
   "cell_type": "code",
   "execution_count": null,
   "id": "02d66780-0c08-435d-b1df-87a0150c1c4d",
   "metadata": {},
   "outputs": [],
   "source": [
    "def new_cluster(*, profile=\"standard\", environment=current_environment, n_workers=0):\n",
    "    \"\"\"Convenience function to create a new dask cluster, ensuring\n",
    "    that the cluster conda environment matches the user's notebook\n",
    "    kernel environment.\n",
    "    \n",
    "    Parameters\n",
    "    ----------\n",
    "    profile : {'standard', 'highmem', 'highmem-2'}\n",
    "        Cluster worker profile.\n",
    "    environment : str\n",
    "        Conda environment, defaults to current environment.\n",
    "        \n",
    "    Returns\n",
    "    -------\n",
    "    cluster : Cluster\n",
    "        A dask cluster.\n",
    "        \n",
    "    \"\"\"\n",
    "    \n",
    "    # access dask gateway\n",
    "    gateway = get_gateway()\n",
    "    \n",
    "    # check params\n",
    "    if profile not in _cluster_profiles:\n",
    "        raise ValueError(f\"profile {profile} not available, must be one of {_cluster_profiles}\")\n",
    "    if environment not in _cluster_environments:\n",
    "        raise ValueError(f\"environment {environment} not available, must be one of {_cluster_environments}\")\n",
    "\n",
    "    # create the cluster\n",
    "    print(f\"creating cluster with profile {profile} and environment {environment}...\")\n",
    "    cluster = gateway.new_cluster(\n",
    "        conda_environment=environment, \n",
    "        profile=profile\n",
    "    )\n",
    "    \n",
    "    # scale up\n",
    "    cluster.scale(n_workers)\n",
    "    \n",
    "    # access the dask client to connect to cluster\n",
    "    cluster.get_client()\n",
    "    \n",
    "    return cluster\n"
   ]
  },
  {
   "cell_type": "code",
   "execution_count": null,
   "id": "2948b3f4-94e6-4e11-9554-417b2df8f125",
   "metadata": {},
   "outputs": [],
   "source": [
    "def shutdown_clusters():\n",
    "    \"\"\"Convenience function to shutdown all the user's dask clusters.\"\"\"\n",
    "    \n",
    "    gateway = get_gateway()\n",
    "    for report in gateway.list_clusters():\n",
    "        print(f\"shutting down cluster: {report.name}\")\n",
    "        cluster = gateway.connect(report.name)\n",
    "        cluster.shutdown()\n",
    "        "
   ]
  },
  {
   "cell_type": "markdown",
   "id": "42c5bf83-1bf2-4978-98c2-c3449302ca8f",
   "metadata": {},
   "source": [
    "## GCS initialisation\n",
    "\n",
    "**N.B., to authenticate for gsutil, open a terminal and run:**\n",
    "\n",
    "```\n",
    "conda activate binder-4.2.0\n",
    "gcloud auth login\n",
    "```\n",
    "\n",
    "**N.B., to authenticate for gcsfs, open a terminal and run:**\n",
    "\n",
    "```\n",
    "conda activate binder-4.2.0\n",
    "gcloud auth application-default login\n",
    "```\n",
    "\n",
    "This will need to be done before running the `init_gcs()` function below."
   ]
  },
  {
   "cell_type": "code",
   "execution_count": null,
   "id": "bbf75f67-bbcd-4337-a4e2-916cb7d7d9fd",
   "metadata": {},
   "outputs": [],
   "source": [
    "def init_gcs(*,\n",
    "    cache_timeout=0,\n",
    "    requests_timeout=None,\n",
    "    block_size=None\n",
    "):\n",
    "    \n",
    "    # authenticate\n",
    "    credentials, project = google.auth.default()\n",
    "    \n",
    "    # check project\n",
    "    assert project == 'malariagen-jupyterhub'\n",
    "    \n",
    "    # instantiate filesystem\n",
    "    gcs = gcsfs.GCSFileSystem(\n",
    "        token=credentials,\n",
    "        project=project, \n",
    "        cache_timeout=cache_timeout, \n",
    "        requests_timeout=requests_timeout, \n",
    "        block_size=block_size\n",
    "    )\n",
    "\n",
    "    return gcs"
   ]
  }
 ],
 "metadata": {
  "kernelspec": {
   "display_name": "deepaksilaych-deepaksilaych-deepaksilaych",
   "language": "python",
   "name": "conda-env-deepaksilaych-deepaksilaych-deepaksilaych-py"
  },
  "language_info": {
   "codemirror_mode": {
    "name": "ipython",
    "version": 3
   },
   "file_extension": ".py",
   "mimetype": "text/x-python",
   "name": "python",
   "nbconvert_exporter": "python",
   "pygments_lexer": "ipython3",
   "version": "3.10.18"
  }
 },
 "nbformat": 4,
 "nbformat_minor": 5
}
