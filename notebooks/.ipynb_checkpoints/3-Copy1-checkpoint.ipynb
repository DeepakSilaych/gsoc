{
 "cells": [
  {
   "cell_type": "code",
   "execution_count": null,
   "id": "06fb8535-b638-402d-b115-e0a4d169c8d2",
   "metadata": {
    "tags": []
   },
   "outputs": [],
   "source": [
    "import malariagen_data\n",
    "import numpy as np\n",
    "import pandas as pd\n",
    "from xgboost import XGBClassifier\n",
    "from sklearn.preprocessing import LabelEncoder\n",
    "from sklearn.model_selection import cross_val_score, StratifiedKFold\n",
    "from sklearn.metrics import classification_report"
   ]
  },
  {
   "cell_type": "code",
   "execution_count": null,
   "id": "4a48abcf-f8f6-4f31-a471-496bde410477",
   "metadata": {
    "tags": []
   },
   "outputs": [],
   "source": [
    "ag3 = malariagen_data.Ag3()\n",
    "df = ag3.sample_metadata().dropna(subset=[\"sample_id\", \"aim_species\"])\n",
    "species_list = df['aim_species'].unique().tolist()"
   ]
  },
  {
   "cell_type": "code",
   "execution_count": null,
   "id": "d622125c-a0c8-4231-a54b-1c29d5f5c2f2",
   "metadata": {},
   "outputs": [],
   "source": [
    "N = 100"
   ]
  },
  {
   "cell_type": "code",
   "execution_count": 4,
   "id": "217e6577-5b7a-4ee0-80be-0b9e253ece5d",
   "metadata": {
    "tags": []
   },
   "outputs": [],
   "source": [
    "sample_rows = []\n",
    "for sp in species_list:\n",
    "    sp_rows = df[df[\"aim_species\"] == sp]\n",
    "    sample_rows.append(sp_rows.sample(N, random_state=42) if len(sp_rows) >= N else sp_rows)\n",
    "samples_df = pd.concat(sample_rows).set_index(\"sample_id\")\n",
    "sample_ids = samples_df.index.tolist()\n",
    "labels = samples_df['aim_species'].values"
   ]
  },
  {
   "cell_type": "code",
   "execution_count": 5,
   "id": "20a0143b-6630-4a72-bca7-bc645a60f9e4",
   "metadata": {
    "tags": []
   },
   "outputs": [],
   "source": [
    "le = LabelEncoder()\n",
    "y = le.fit_transform(labels)\n",
    "species_names = le.classes_"
   ]
  },
  {
   "cell_type": "code",
   "execution_count": 6,
   "id": "c6862ae6-0952-432e-a3dc-0e06283958a5",
   "metadata": {
    "tags": []
   },
   "outputs": [],
   "source": [
    "regions = ag3.contigs"
   ]
  },
  {
   "cell_type": "code",
   "execution_count": 7,
   "id": "15fe2183-7cca-4ab0-a7e5-2840e2ea5f07",
   "metadata": {
    "tags": []
   },
   "outputs": [],
   "source": [
    "def is_biallelic_site(genos):\n",
    "    alleles = set(genos.flatten())\n",
    "    alleles.discard(-1)\n",
    "    return alleles.issubset({0, 1})"
   ]
  },
  {
   "cell_type": "code",
   "execution_count": 8,
   "id": "c82b4577-b006-4d24-ad6d-5ccedfb7ea5f",
   "metadata": {
    "tags": []
   },
   "outputs": [],
   "source": [
    "def encode_diploid(gt_slice):\n",
    "    g0, g1 = gt_slice[:, 0], gt_slice[:, 1]\n",
    "    encoded = np.full(len(gt_slice), np.nan, dtype=np.float32)\n",
    "    encoded[(g0 == 0) & (g1 == 0)] = 0\n",
    "    encoded[((g0 == 0) & (g1 == 1)) | ((g0 == 1) & (g1 == 0))] = 1\n",
    "    encoded[(g0 == 1) & (g1 == 1)] = 2\n",
    "    encoded[(g0 < 0) | (g1 < 0)] = np.nan\n",
    "    return encoded"
   ]
  },
  {
   "cell_type": "code",
   "execution_count": 9,
   "id": "ff4944c5-ca02-49aa-8e42-94c0c01b0ea9",
   "metadata": {
    "tags": []
   },
   "outputs": [],
   "source": [
    "def encode_diploid(gt_slice):\n",
    "    g0, g1 = gt_slice[:, 0], gt_slice[:, 1]\n",
    "    encoded = np.full(len(gt_slice), np.nan)\n",
    "    mask_hom_ref = (g0 == 0) & (g1 == 0)\n",
    "    mask_het = ((g0 == 0) & (g1 == 1)) | ((g0 == 1) & (g1 == 0))\n",
    "    mask_hom_alt = (g0 == 1) & (g1 == 1)\n",
    "    mask_missing = (g0 < 0) | (g1 < 0)\n",
    "    encoded[mask_hom_ref] = 0\n",
    "    encoded[mask_het] = 1\n",
    "    encoded[mask_hom_alt] = 2\n",
    "    encoded[mask_missing] = np.nan\n",
    "    return encoded"
   ]
  },
  {
   "cell_type": "code",
   "execution_count": null,
   "id": "1f541483-29fb-4f26-8539-2199bca135b6",
   "metadata": {
    "tags": []
   },
   "outputs": [
    {
     "name": "stdout",
     "output_type": "stream",
     "text": [
      "Processing region: 2R\n",
      "                                 \r"
     ]
    }
   ],
   "source": [
    "for region in regions:\n",
    "    print(f\"Processing region: {region}\")\n",
    "    ds = ag3.snp_calls(region=region, sample_query=f\"sample_id in {sample_ids}\")\n",
    "    variant_pos = ds['variant_position'].values\n",
    "    call_genotype = ds['call_genotype'].values\n",
    "    del ds  # Free dask/xarray\n",
    "\n",
    "    # Biallelic filtering\n",
    "    biallelic_mask = np.array([\n",
    "        is_biallelic_site(call_genotype[i, :, :])\n",
    "        for i in range(call_genotype.shape[0])\n",
    "    ])\n",
    "    call_genotype_biallelic = call_genotype[biallelic_mask, :, :]\n",
    "    variant_pos_biallelic = variant_pos[biallelic_mask]\n",
    "    del call_genotype, variant_pos, biallelic_mask\n",
    "\n",
    "    # Encode genotypes (samples x SNPs for this region)\n",
    "    X = np.array([encode_diploid(call_genotype_biallelic[:, s, :])\n",
    "                  for s in range(call_genotype_biallelic.shape[1])], dtype=np.float32)\n",
    "    del call_genotype_biallelic\n",
    "\n",
    "    # XGBoost classifier (chromosome-wise)\n",
    "    clf = XGBClassifier(use_label_encoder=False, eval_metric='mlogloss', tree_method='auto', n_jobs=-1)\n",
    "    clf.fit(X, y)\n",
    "\n",
    "    # Feature importance: top million SNPs (or all if < 1M)\n",
    "    top_n = min(1_000_000, X.shape[1])\n",
    "    importances = clf.feature_importances_\n",
    "    important_snps_idx = np.argsort(importances)[::-1][:top_n]\n",
    "    variant_positions_top = variant_pos_biallelic[important_snps_idx]\n",
    "    importances_top = importances[important_snps_idx]\n",
    "    df_top_snps = pd.DataFrame({\n",
    "        \"variant_position\": variant_positions_top,\n",
    "        \"feature_importance\": importances_top\n",
    "    })\n",
    "    df_top_snps.to_csv(f\"top_million_snps_{region}.csv\", index=False)\n",
    "    print(f\"Saved {len(df_top_snps)} top SNPs for {region} to top_million_snps_{region}.csv\")\n",
    "\n",
    "    # Optionally print region summary\n",
    "    cv = StratifiedKFold(n_splits=3, shuffle=True, random_state=42)\n",
    "    cv_scores = cross_val_score(clf, X, y, cv=cv)\n",
    "    print(f\"  Mean CV accuracy for {region}: {np.mean(cv_scores):.2f}\")\n",
    "\n",
    "    del X, importances, important_snps_idx, variant_pos_biallelic, df_top_snps"
   ]
  }
 ],
 "metadata": {
  "kernelspec": {
   "display_name": "deepaksilaych-deepaksilaych-deepaksilaych",
   "language": "python",
   "name": "conda-env-deepaksilaych-deepaksilaych-deepaksilaych-py"
  },
  "language_info": {
   "codemirror_mode": {
    "name": "ipython",
    "version": 3
   },
   "file_extension": ".py",
   "mimetype": "text/x-python",
   "name": "python",
   "nbconvert_exporter": "python",
   "pygments_lexer": "ipython3",
   "version": "3.10.18"
  }
 },
 "nbformat": 4,
 "nbformat_minor": 5
}
