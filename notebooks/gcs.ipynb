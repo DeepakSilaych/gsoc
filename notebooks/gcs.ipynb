{
 "cells": [
  {
   "cell_type": "code",
   "execution_count": 9,
   "id": "5a1f8c0f-1897-4d30-b744-44571c64d3b0",
   "metadata": {
    "tags": []
   },
   "outputs": [
    {
     "name": "stdout",
     "output_type": "stream",
     "text": [
      "conda_prefix:  /home/conda/deepaksilaych/envs/deepaksilaych-deepaksilaych\n",
      "current_environment:  deepaksilaych/deepaksilaych-deepaksilaych\n"
     ]
    }
   ],
   "source": [
    "from pyprojroot import here\n",
    "%run {here()}/DataLab_bespin_functions.ipynb"
   ]
  },
  {
   "cell_type": "code",
   "execution_count": 10,
   "id": "5a39d072-a352-4057-9ab5-3f1fd4d64ba0",
   "metadata": {
    "tags": []
   },
   "outputs": [],
   "source": [
    "gcs = init_gcs()"
   ]
  },
  {
   "cell_type": "code",
   "execution_count": 11,
   "id": "da270099-1ae8-4203-abe5-e082a2db4341",
   "metadata": {
    "tags": []
   },
   "outputs": [],
   "source": [
    "\n",
    "bucket_name = \"vo_agam_production\"\n",
    "source_blob_path = \"v3.x/taxon_classifiers/RF_20231019\"\n",
    "destination_file_name = \"RF_20231019_downloaded\""
   ]
  },
  {
   "cell_type": "code",
   "execution_count": 13,
   "id": "8f64af72-44dd-4523-b442-9b51ec5d5043",
   "metadata": {
    "tags": []
   },
   "outputs": [],
   "source": [
    "gcs_path = f\"{bucket_name}/{source_blob_path}\"\n"
   ]
  },
  {
   "cell_type": "code",
   "execution_count": 14,
   "id": "099bcd78-352a-4df5-a33e-6a2e38455fc8",
   "metadata": {
    "tags": []
   },
   "outputs": [],
   "source": [
    "with gcs.open(gcs_path, 'rb') as remote_file:\n",
    "    with open(destination_file_name, 'wb') as local_file:\n",
    "        local_file.write(remote_file.read())\n"
   ]
  },
  {
   "cell_type": "code",
   "execution_count": 15,
   "id": "0391816a-180e-4e7b-ab78-62f3841acaa2",
   "metadata": {
    "tags": []
   },
   "outputs": [
    {
     "name": "stdout",
     "output_type": "stream",
     "text": [
      "✅ File downloaded to: RF_20231019_downloaded\n"
     ]
    }
   ],
   "source": [
    "print(f\"✅ File downloaded to: {destination_file_name}\")"
   ]
  }
 ],
 "metadata": {
  "kernelspec": {
   "display_name": "deepaksilaych-deepaksilaych-deepaksilaych",
   "language": "python",
   "name": "conda-env-deepaksilaych-deepaksilaych-deepaksilaych-py"
  },
  "language_info": {
   "codemirror_mode": {
    "name": "ipython",
    "version": 3
   },
   "file_extension": ".py",
   "mimetype": "text/x-python",
   "name": "python",
   "nbconvert_exporter": "python",
   "pygments_lexer": "ipython3",
   "version": "3.10.18"
  }
 },
 "nbformat": 4,
 "nbformat_minor": 5
}
